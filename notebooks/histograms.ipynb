{
 "cells": [
  {
   "cell_type": "code",
   "execution_count": null,
   "id": "9dd5c9fa-d524-474b-83bd-ff54cf6ec6d8",
   "metadata": {},
   "outputs": [],
   "source": [
    "import pandas \n",
    "lipinsky = pandas.read_csv('lipinski_properties.csv')\n",
    "lipinsky.hist(column='number of Hydrogen Bond Donors', color = 'black')\n",
    "lipinsky.hist(column='number of Hydrogen Bond Acceptors',color = 'pink')\n",
    "lipinsky.hist(column='molecular weight', color = 'grey')\n",
    "lipinsky.hist(column='log P', color = 'green')"
   ]
  }
 ],
 "metadata": {
  "kernelspec": {
   "display_name": "Python 3 (ipykernel)",
   "language": "python",
   "name": "python3"
  },
  "language_info": {
   "codemirror_mode": {
    "name": "ipython",
    "version": 3
   },
   "file_extension": ".py",
   "mimetype": "text/x-python",
   "name": "python",
   "nbconvert_exporter": "python",
   "pygments_lexer": "ipython3",
   "version": "3.10.9"
  }
 },
 "nbformat": 4,
 "nbformat_minor": 5
}
